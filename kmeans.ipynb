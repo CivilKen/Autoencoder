{
 "cells": [
  {
   "cell_type": "code",
   "execution_count": 0,
   "metadata": {
    "colab": {},
    "colab_type": "code",
    "id": "-iy2lCfzwWDL"
   },
   "outputs": [],
   "source": [
    "import numpy as np\n",
    "import tensorflow as tf\n",
    "from sklearn.cluster import KMeans"
   ]
  },
  {
   "cell_type": "code",
   "execution_count": 0,
   "metadata": {
    "colab": {},
    "colab_type": "code",
    "id": "v7DK-0D5wu7L"
   },
   "outputs": [],
   "source": [
    "#%% define session graph\n",
    "def add_layer(inputs, in_size, out_size, keep_prob, activation_function=None):\n",
    "    # add one more layer and return the output of this layer\n",
    "    Weights = tf.Variable(tf.random_normal([in_size, out_size],stddev=0.01))\n",
    "    biases = tf.Variable(tf.zeros([1, out_size]))\n",
    "    Wx_plus_b = tf.matmul(inputs, Weights) + biases\n",
    "    #Wx_plus_b = tf.nn.dropout(Wx_plus_b, keep_prob)\n",
    "    if activation_function is None:\n",
    "        outputs = Wx_plus_b\n",
    "    else:\n",
    "        outputs = activation_function(Wx_plus_b)\n",
    "    outputs = tf.nn.dropout(outputs, keep_prob)\n",
    "    return outputs\n",
    "\n",
    "# define placeholder for inputs to network\n",
    "keep_prob = tf.placeholder(tf.float32)\n",
    "xs = tf.placeholder(tf.float32, [None, 784])\n",
    "ys = tf.placeholder(tf.float32, [None, 784])\n",
    "\n",
    "# add hidden layer\n",
    "l1 = add_layer(xs, 784, 512, keep_prob, activation_function=tf.nn.relu)\n",
    "l2 = add_layer(l1,512,256,keep_prob, activation_function=tf.nn.relu)\n",
    "l3 = add_layer(l2,256,64,keep_prob, activation_function=tf.nn.relu)\n",
    "bottle = add_layer(l3, 64, 16, 1.0, activation_function=None)\n",
    "l4 = add_layer(bottle,16,64,keep_prob, activation_function=tf.nn.relu)\n",
    "l5 = add_layer(l4,64,256,keep_prob, activation_function=tf.nn.relu)\n",
    "l6 = add_layer(l5,256,512,keep_prob, activation_function=tf.nn.relu)\n",
    "prediction = add_layer(l6, 512, 784, keep_prob, activation_function=None)\n",
    "\n",
    "sess = tf.Session()"
   ]
  },
  {
   "cell_type": "code",
   "execution_count": 0,
   "metadata": {
    "colab": {
     "base_uri": "https://localhost:8080/",
     "height": 34
    },
    "colab_type": "code",
    "id": "vrcHqgkTxu95",
    "outputId": "3eff15f4-fb39-477d-fef9-458e09e753e9"
   },
   "outputs": [
    {
     "name": "stdout",
     "output_type": "stream",
     "text": [
      "INFO:tensorflow:Restoring parameters from /content/gdrive/My Drive/ML_homework/Colab Notebooks/hw4/part2/model.ckpt\n"
     ]
    }
   ],
   "source": [
    "#%% # Add ops to restore the variables.\n",
    "import os\n",
    "path = os.getcwd()\n",
    "saver = tf.train.Saver()\n",
    "saver.restore(sess, path+\"/model.ckpt\")"
   ]
  },
  {
   "cell_type": "code",
   "execution_count": 0,
   "metadata": {
    "colab": {},
    "colab_type": "code",
    "id": "G35XKaFQy0Tc"
   },
   "outputs": [],
   "source": [
    "X = np.load(path+'/'+'image.npy')\n",
    "X = X.astype('float32')/255.\n",
    "x_train = X\n",
    "y_train = X"
   ]
  },
  {
   "cell_type": "code",
   "execution_count": 0,
   "metadata": {
    "colab": {},
    "colab_type": "code",
    "id": "BN8gFHd_zIEX"
   },
   "outputs": [],
   "source": [
    "X_rd = sess.run(bottle, feed_dict={xs: x_train, keep_prob: 1})"
   ]
  },
  {
   "cell_type": "code",
   "execution_count": 0,
   "metadata": {
    "colab": {
     "base_uri": "https://localhost:8080/",
     "height": 34
    },
    "colab_type": "code",
    "id": "OeB_r54vzPfv",
    "outputId": "79b50d35-4cbc-4022-efa4-79222e1ca192"
   },
   "outputs": [
    {
     "data": {
      "text/plain": [
       "(140000, 16)"
      ]
     },
     "execution_count": 7,
     "metadata": {
      "tags": []
     },
     "output_type": "execute_result"
    }
   ],
   "source": [
    "X_rd.shape"
   ]
  },
  {
   "cell_type": "code",
   "execution_count": 0,
   "metadata": {
    "colab": {},
    "colab_type": "code",
    "id": "KLOD-fd5zWAq"
   },
   "outputs": [],
   "source": [
    "kmeans = KMeans(n_clusters=2, random_state=0).fit(X_rd)"
   ]
  },
  {
   "cell_type": "code",
   "execution_count": 0,
   "metadata": {
    "colab": {},
    "colab_type": "code",
    "id": "VuZbv2iSJxTL"
   },
   "outputs": [],
   "source": [
    "labels = kmeans.labels_"
   ]
  },
  {
   "cell_type": "code",
   "execution_count": 0,
   "metadata": {
    "colab": {
     "base_uri": "https://localhost:8080/",
     "height": 34
    },
    "colab_type": "code",
    "id": "peJLDNHuJyPx",
    "outputId": "99bf6970-9207-40ef-a907-e30dcec1e8cd"
   },
   "outputs": [
    {
     "data": {
      "text/plain": [
       "array([0, 1, 1, ..., 1, 1, 1], dtype=int32)"
      ]
     },
     "execution_count": 10,
     "metadata": {
      "tags": []
     },
     "output_type": "execute_result"
    }
   ],
   "source": [
    "labels"
   ]
  },
  {
   "cell_type": "code",
   "execution_count": null,
   "metadata": {},
   "outputs": [],
   "source": []
  }
 ],
 "metadata": {
  "colab": {
   "collapsed_sections": [],
   "name": "kmeans.ipynb",
   "provenance": [],
   "version": "0.3.2"
  },
  "kernelspec": {
   "display_name": "Python 3",
   "language": "python",
   "name": "python3"
  },
  "language_info": {
   "codemirror_mode": {
    "name": "ipython",
    "version": 3
   },
   "file_extension": ".py",
   "mimetype": "text/x-python",
   "name": "python",
   "nbconvert_exporter": "python",
   "pygments_lexer": "ipython3",
   "version": "3.6.5"
  }
 },
 "nbformat": 4,
 "nbformat_minor": 1
}
